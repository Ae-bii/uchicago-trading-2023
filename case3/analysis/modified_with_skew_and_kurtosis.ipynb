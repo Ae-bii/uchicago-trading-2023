{
 "cells": [
  {
   "cell_type": "code",
   "execution_count": null,
   "metadata": {},
   "outputs": [],
   "source": [
    "import numpy as np\n",
    "from scipy.stats import skew, kurtosis\n",
    "from scipy.optimize import minimize"
   ]
  },
  {
   "cell_type": "code",
   "execution_count": null,
   "metadata": {},
   "outputs": [],
   "source": [
    "# Define asset returns\n",
    "returns = np.random.normal(0.05, 0.2, (10, 252*10))  # 10 assets, 10 years of daily returns\n",
    "\n",
    "# Calculate expected returns and covariance matrix\n",
    "exp_returns = np.mean(returns, axis=1)\n",
    "cov_matrix = np.cov(returns)\n",
    "\n",
    "# Calculate skewness and kurtosis for each asset\n",
    "skews = skew(returns, axis=1)\n",
    "kurts = kurtosis(returns, axis=1)\n",
    "\n",
    "# Augment the covariance matrix based on skewness and kurtosis\n",
    "skewness_matrix = np.diag(skews)  # diagonal matrix of skewness values\n",
    "kurtosis_matrix = np.diag(kurts)  # diagonal matrix of kurtosis values\n",
    "cov_matrix_augmented = cov_matrix + 0.5 * skewness_matrix + 0.1 * kurtosis_matrix\n",
    "\n",
    "# Calculate optimal portfolio using MPT with augmented covariance matrix\n",
    "\n",
    "def calculate_portfolio_variance(weights, exp_returns, cov_matrix):\n",
    "    port_return = np.sum(exp_returns * weights)\n",
    "    port_var = np.dot(weights.T, np.dot(cov_matrix, weights))\n",
    "    return port_var\n",
    "\n",
    "def calculate_portfolio_return(weights, exp_returns):\n",
    "    port_return = np.sum(exp_returns * weights)\n",
    "    return port_return\n",
    "\n",
    "def check_sum(weights):\n",
    "    return np.sum(weights) - 1\n",
    "\n",
    "def optimize_portfolio(exp_returns, cov_matrix):\n",
    "    num_assets = len(exp_returns)\n",
    "    args = (exp_returns, cov_matrix)\n",
    "\n",
    "    constraints = ({'type': 'eq', 'fun': check_sum})\n",
    "    bounds = tuple((0, 1) for asset in range(num_assets))\n",
    "\n",
    "    initial_guess = num_assets * [1. / num_assets]\n",
    "    optimal_portfolio = minimize(calculate_portfolio_variance, initial_guess, args=args, method='SLSQP',\n",
    "                                  bounds=bounds, constraints=constraints)\n",
    "    return optimal_portfolio.x\n",
    "\n",
    "optimal_weights = optimize_portfolio(exp_returns, cov_matrix_augmented)\n",
    "optimal_return = calculate_portfolio_return(optimal_weights, exp_returns)\n",
    "optimal_variance = calculate_portfolio_variance(optimal_weights, exp_returns, cov_matrix_augmented)\n"
   ]
  }
 ],
 "metadata": {
  "language_info": {
   "name": "python"
  },
  "orig_nbformat": 4
 },
 "nbformat": 4,
 "nbformat_minor": 2
}
