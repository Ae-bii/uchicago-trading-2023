{
 "cells": [
  {
   "cell_type": "code",
   "execution_count": 252,
   "metadata": {},
   "outputs": [],
   "source": [
    "import pandas as pd\n",
    "import numpy as np\n",
    "from scipy.optimize import minimize\n",
    "import scipy"
   ]
  },
  {
   "cell_type": "code",
   "execution_count": 253,
   "metadata": {},
   "outputs": [],
   "source": [
    "df = pd.read_csv(\"../data/Training Data_Case 3.csv\", index_col=0)\n",
    "returns = df.pct_change().dropna()"
   ]
  },
  {
   "cell_type": "code",
   "execution_count": 254,
   "metadata": {},
   "outputs": [
    {
     "name": "stdout",
     "output_type": "stream",
     "text": [
      "Optimized Portfolio Weights:  [0.10210583 0.1302953  0.14138723 0.09678279 0.09904126 0.06973882\n",
      " 0.0899162  0.06236273 0.12945536 0.07891449]\n",
      "Sharpe Ratio:  1.05524736920883\n"
     ]
    }
   ],
   "source": [
    "# Define the number of assets in the portfolio\n",
    "n_assets = len(df.columns)\n",
    "\n",
    "# Define the minimum and maximum weight of each asset in the portfolio\n",
    "min_weight = 0.0\n",
    "max_weight = 1.0\n",
    "\n",
    "# Define the target return and the desired risk level of the portfolio\n",
    "target_return = 0.1\n",
    "desired_risk = 0.2\n",
    "\n",
    "# Define the risk tolerance parameter (affects the weighting of the risk parity allocation)\n",
    "risk_tolerance = 1.0\n",
    "\n",
    "# Define the objective function to minimize\n",
    "def objective(weights):\n",
    "    # Calculate the portfolio returns and variance\n",
    "    portfolio_return = np.dot(weights, returns.mean()) \n",
    "    portfolio_covariance = np.cov(returns.T) \n",
    "    portfolio_variance = np.dot(weights.T, np.dot(portfolio_covariance, weights))\n",
    "\n",
    "    # Calculate the skew and kurtosis of the returns distribution\n",
    "    skewness = np.sum((returns.mean() - portfolio_return)**3) / (n_assets * portfolio_variance**(3/2))\n",
    "    kurtosis = np.sum((returns.mean() - portfolio_return)**4) / (n_assets * portfolio_variance**2) - 3\n",
    "\n",
    "    # Calculate the contribution of each asset to the risk parity allocation\n",
    "    asset_risk_contributions = np.sqrt(np.diag(portfolio_covariance)) * weights / np.sqrt(portfolio_variance)\n",
    "    asset_risk_contributions /= np.sum(asset_risk_contributions)\n",
    "\n",
    "    # Calculate the objective function value\n",
    "    obj = (portfolio_return - target_return)**2 + risk_tolerance * np.sum((asset_risk_contributions - 1/n_assets)**2)\n",
    "    obj += skewness**2 + kurtosis**2\n",
    "\n",
    "    return obj\n",
    "\n",
    "# Define the initial guess for the weights of each asset in the portfolio\n",
    "init_guess = np.ones(n_assets) / n_assets\n",
    "\n",
    "# Define the weight constraints for the optimization\n",
    "weight_constraints = [{'type': 'ineq', 'fun': lambda x: x[i] - min_weight} for i in range(n_assets)]\n",
    "weight_constraints += [{'type': 'ineq', 'fun': lambda x: -x[i] + max_weight} for i in range(n_assets)]\n",
    "weight_constraints += [{'type': 'eq', 'fun': lambda x: np.sum(x) - 1.0}]\n",
    "\n",
    "# Perform the optimization\n",
    "result = minimize(objective, init_guess, constraints=weight_constraints)\n",
    "\n",
    "# Calculate the portfolio returns, variance, and Sharpe Ratio\n",
    "portfolio_return = np.dot(result.x, returns.mean(axis=0)) \n",
    "portfolio_covariance = np.cov(returns.T) \n",
    "portfolio_variance = np.dot(result.x.T, np.dot(portfolio_covariance, result.x))\n",
    "sharpe_ratio = (252 ** 0.5) * (portfolio_return) / np.sqrt(portfolio_variance)\n",
    "\n",
    "# Print the optimized portfolio weights and Sharpe Ratio\n",
    "print(\"Optimized Portfolio Weights: \", result.x)\n",
    "print(\"Sharpe Ratio: \", sharpe_ratio)\n"
   ]
  },
  {
   "cell_type": "code",
   "execution_count": 255,
   "metadata": {},
   "outputs": [
    {
     "name": "stdout",
     "output_type": "stream",
     "text": [
      "Optimal weights:\n",
      "[1.47606498e-17 2.43745824e-01 2.49850526e-01 2.34825064e-01\n",
      " 8.14671052e-18 1.12877464e-17 1.01355236e-18 1.18286347e-01\n",
      " 1.53292238e-01 0.00000000e+00]\n",
      "Sharpe ratio: 1.45\n"
     ]
    }
   ],
   "source": [
    "# define the returns of the 10 assets as a numpy array\n",
    "returns = np.array(returns)\n",
    "\n",
    "# calculate the mean returns and covariance matrix of the assets\n",
    "mean_returns = np.mean(returns, axis=0)\n",
    "cov_matrix = np.cov(returns.T)\n",
    "\n",
    "# calculate the skewness and kurtosis of the returns\n",
    "skewness = np.array([scipy.stats.skew(ret) for ret in returns.T])\n",
    "kurtosis = np.array([scipy.stats.kurtosis(ret) for ret in returns.T])\n",
    "\n",
    "# define the objective function to be minimized\n",
    "def negative_sharpe_ratio(weights, mean_returns, cov_matrix, skewness, kurtosis):\n",
    "    portfolio_return = np.dot(weights, mean_returns)\n",
    "    portfolio_std_dev = np.sqrt(np.dot(weights.T, np.dot(cov_matrix, weights)))\n",
    "    sharpe_ratio = (portfolio_return / portfolio_std_dev) * np.power(1 + skewness @ weights + 0.5 * kurtosis @ np.square(weights), 1/3)\n",
    "    return -sharpe_ratio\n",
    "\n",
    "# set the initial weight allocation to be equal for all assets\n",
    "num_assets = len(df.columns)\n",
    "weights_0 = np.array([1/num_assets]*num_assets)\n",
    "\n",
    "# define the constraints for the optimization\n",
    "constraints = ({'type': 'eq', 'fun': lambda x: np.sum(x) - 1})\n",
    "\n",
    "# define the bounds for the optimization (between 0 and 1 for each weight)\n",
    "bounds = tuple((0,1) for _ in range(num_assets))\n",
    "\n",
    "# minimize the negative Sharpe ratio to find the optimal weights\n",
    "result = minimize(negative_sharpe_ratio, weights_0, args=(mean_returns, cov_matrix, skewness, kurtosis), method='SLSQP', bounds=bounds, constraints=constraints)\n",
    "\n",
    "# calculate the Sharpe ratio for the optimal weights\n",
    "optimal_weights = result.x\n",
    "optimal_return = np.dot(optimal_weights, mean_returns)\n",
    "optimal_std_dev = np.sqrt(np.dot(optimal_weights.T, np.dot(cov_matrix, optimal_weights)))\n",
    "sharpe_ratio = np.sqrt(252) * optimal_return / optimal_std_dev\n",
    "\n",
    "# print the optimal weights and Sharpe ratio\n",
    "print(\"Optimal weights:\")\n",
    "print(optimal_weights)\n",
    "print(\"Sharpe ratio: {:.2f}\".format(sharpe_ratio))\n"
   ]
  },
  {
   "cell_type": "code",
   "execution_count": 333,
   "metadata": {},
   "outputs": [],
   "source": [
    "class MaximizeSharpeModel:\n",
    "    def __init__(self, historical_prices):\n",
    "        self.historical_prices = historical_prices\n",
    "        self.num_assets = len(self.historical_prices.columns)\n",
    "        \n",
    "        self.returns = np.array(self.historical_prices.pct_change().dropna())\n",
    "        self.mean_returns = np.mean(self.returns, axis=0)\n",
    "        self.cov_matrix = np.cov(self.returns.T)\n",
    "        \n",
    "        self.skewness = np.array([scipy.stats.skew(ret) for ret in self.returns.T])\n",
    "        self.kurtosis = np.array([scipy.stats.kurtosis(ret) for ret in self.returns.T])\n",
    "        \n",
    "        self.sharpe_ratio = None\n",
    "        self.weights = self._optimize_weights()\n",
    "        \n",
    "    def _negative_sharpe_ratio(self, weights, mean_returns, cov_matrix, skewness, kurtosis):\n",
    "        portfolio_return = np.dot(weights, mean_returns)\n",
    "        portfolio_std_dev = np.sqrt(np.dot(weights.T, np.dot(cov_matrix, weights)))\n",
    "        sharpe_ratio = (portfolio_return / portfolio_std_dev) * np.power(1 + skewness @ weights + 0.5 * kurtosis @ np.square(weights), 1/3)\n",
    "        return -sharpe_ratio\n",
    "    \n",
    "    def _optimize_weights(self):\n",
    "        # set the initial weight allocation to be equal for all assets\n",
    "        weights_0 = np.array([1/self.num_assets]*self.num_assets)\n",
    "\n",
    "        # define the constraints for the optimization\n",
    "        constraints = ({'type': 'eq', 'fun': lambda x: np.sum(x) - 1})\n",
    "\n",
    "        # define the bounds for the optimization (between 0 and 1 for each weight)\n",
    "        bounds = tuple((0,1) for _ in range(self.num_assets))\n",
    "\n",
    "        # minimize the negative Sharpe ratio to find the optimal weights\n",
    "        result = minimize(self._negative_sharpe_ratio, weights_0, args=(self.mean_returns, self.cov_matrix, self.skewness, self.kurtosis), method='SLSQP', bounds=bounds, constraints=constraints)\n",
    "\n",
    "        # calculate the Sharpe ratio for the optimal weights\n",
    "        optimal_weights = result.x\n",
    "        optimal_return = np.dot(optimal_weights, mean_returns)\n",
    "        optimal_std_dev = np.sqrt(np.dot(optimal_weights.T, np.dot(cov_matrix, optimal_weights)))\n",
    "        self.sharpe_ratio = np.sqrt(252) * optimal_return / optimal_std_dev\n",
    "        \n",
    "        return result.x\n",
    "    \n",
    "    def update_weights(self, current_prices):\n",
    "        np.append(self.returns, (current_prices / self.historical_prices.iloc[-1]) - 1)\n",
    "        print(self.returns)\n",
    "        self.mean_returns = np.mean(self.returns, axis=0)\n",
    "        self.cov_matrix = np.cov(self.returns.T)\n",
    "        \n",
    "        self.skewness = np.array([scipy.stats.skew(ret) for ret in self.returns.T])\n",
    "        self.kurtosis = np.array([scipy.stats.kurtosis(ret) for ret in self.returns.T])\n",
    "        self.weights = self._optimize_weights()\n",
    "        \n",
    "        "
   ]
  },
  {
   "cell_type": "code",
   "execution_count": 334,
   "metadata": {},
   "outputs": [
    {
     "name": "stdout",
     "output_type": "stream",
     "text": [
      "0.8189874855737443\n",
      "[2.13116135e-07 5.14185701e-02 2.56251394e-01 4.99558727e-02\n",
      " 3.05101825e-01 0.00000000e+00 7.49072661e-07 2.72180337e-01\n",
      " 0.00000000e+00 6.51083556e-02]\n"
     ]
    }
   ],
   "source": [
    "model = MaximizeSharpeModel(df[:4])\n",
    "# model._optimize_weights()\n",
    "print(model.sharpe_ratio)\n",
    "print(model.weights)"
   ]
  },
  {
   "cell_type": "code",
   "execution_count": 335,
   "metadata": {},
   "outputs": [
    {
     "name": "stdout",
     "output_type": "stream",
     "text": [
      "[[ 0.003001    0.01598991  0.00248236 -0.00685786  0.01278195 -0.01232666\n",
      "  -0.00393798  0.03887739  0.00607287 -0.00816434]\n",
      " [-0.00598404 -0.00590805  0.01133846 -0.0094162   0.02282851 -0.01560062\n",
      "  -0.01556709  0.01926484  0.02062374  0.01115242]\n",
      " [ 0.0180602  -0.00309644  0.0242268   0.00190114  0.01252041  0.01162176\n",
      "   0.00727912  0.01868347 -0.0137999   0.00026261]]\n",
      "0.8189874855737443\n"
     ]
    }
   ],
   "source": [
    "model.update_weights(df[5:6])\n",
    "# model._optimize_weights()\n",
    "print(model.sharpe_ratio)"
   ]
  },
  {
   "cell_type": "code",
   "execution_count": 259,
   "metadata": {},
   "outputs": [],
   "source": [
    "# for i in range"
   ]
  },
  {
   "cell_type": "code",
   "execution_count": null,
   "metadata": {},
   "outputs": [],
   "source": []
  }
 ],
 "metadata": {
  "kernelspec": {
   "display_name": "venv",
   "language": "python",
   "name": "python3"
  },
  "language_info": {
   "codemirror_mode": {
    "name": "ipython",
    "version": 3
   },
   "file_extension": ".py",
   "mimetype": "text/x-python",
   "name": "python",
   "nbconvert_exporter": "python",
   "pygments_lexer": "ipython3",
   "version": "3.9.13"
  },
  "orig_nbformat": 4
 },
 "nbformat": 4,
 "nbformat_minor": 2
}
