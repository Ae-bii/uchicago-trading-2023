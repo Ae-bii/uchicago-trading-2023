{
 "cells": [
  {
   "cell_type": "code",
   "execution_count": 1,
   "metadata": {},
   "outputs": [],
   "source": [
    "import pandas as pd\n",
    "import numpy as np\n",
    "from scipy.optimize import minimize"
   ]
  },
  {
   "cell_type": "code",
   "execution_count": 12,
   "metadata": {},
   "outputs": [],
   "source": [
    "df = pd.read_csv(\"../data/Training Data_Case 3.csv\", index_col=0)\n",
    "returns = df.pct_change().dropna()"
   ]
  },
  {
   "cell_type": "code",
   "execution_count": 16,
   "metadata": {},
   "outputs": [
    {
     "name": "stdout",
     "output_type": "stream",
     "text": [
      "Optimized Portfolio Weights:  [0.10210583 0.1302953  0.14138723 0.09678279 0.09904126 0.06973882\n",
      " 0.0899162  0.06236273 0.12945536 0.07891449]\n",
      "Sharpe Ratio:  1.05524736920883\n"
     ]
    }
   ],
   "source": [
    "# Define the number of assets in the portfolio\n",
    "n_assets = len(df.columns)\n",
    "\n",
    "# Define the minimum and maximum weight of each asset in the portfolio\n",
    "min_weight = 0.0\n",
    "max_weight = 1.0\n",
    "\n",
    "# Define the target return and the desired risk level of the portfolio\n",
    "target_return = 0.1\n",
    "desired_risk = 0.2\n",
    "\n",
    "# Define the risk tolerance parameter (affects the weighting of the risk parity allocation)\n",
    "risk_tolerance = 1.0\n",
    "\n",
    "# Define the objective function to minimize\n",
    "def objective(weights):\n",
    "    # Calculate the portfolio returns and variance\n",
    "    portfolio_return = np.dot(weights, returns.mean()) \n",
    "    portfolio_covariance = np.cov(returns.T) \n",
    "    portfolio_variance = np.dot(weights.T, np.dot(portfolio_covariance, weights))\n",
    "\n",
    "    # Calculate the skew and kurtosis of the returns distribution\n",
    "    skewness = np.sum((returns.mean() - portfolio_return)**3) / (n_assets * portfolio_variance**(3/2))\n",
    "    kurtosis = np.sum((returns.mean() - portfolio_return)**4) / (n_assets * portfolio_variance**2) - 3\n",
    "\n",
    "    # Calculate the contribution of each asset to the risk parity allocation\n",
    "    asset_risk_contributions = np.sqrt(np.diag(portfolio_covariance)) * weights / np.sqrt(portfolio_variance)\n",
    "    asset_risk_contributions /= np.sum(asset_risk_contributions)\n",
    "\n",
    "    # Calculate the objective function value\n",
    "    obj = (portfolio_return - target_return)**2 + risk_tolerance * np.sum((asset_risk_contributions - 1/n_assets)**2)\n",
    "    obj += skewness**2 + kurtosis**2\n",
    "\n",
    "    return obj\n",
    "\n",
    "# Define the initial guess for the weights of each asset in the portfolio\n",
    "init_guess = np.ones(n_assets) / n_assets\n",
    "\n",
    "# Define the weight constraints for the optimization\n",
    "weight_constraints = [{'type': 'ineq', 'fun': lambda x: x[i] - min_weight} for i in range(n_assets)]\n",
    "weight_constraints += [{'type': 'ineq', 'fun': lambda x: -x[i] + max_weight} for i in range(n_assets)]\n",
    "weight_constraints += [{'type': 'eq', 'fun': lambda x: np.sum(x) - 1.0}]\n",
    "\n",
    "# Perform the optimization\n",
    "result = minimize(objective, init_guess, constraints=weight_constraints)\n",
    "\n",
    "# Calculate the portfolio returns, variance, and Sharpe Ratio\n",
    "portfolio_return = np.dot(result.x, returns.mean()) \n",
    "portfolio_covariance = np.cov(returns.T) \n",
    "portfolio_variance = np.dot(result.x.T, np.dot(portfolio_covariance, result.x))\n",
    "sharpe_ratio = (252 ** 0.5) * (portfolio_return) / np.sqrt(portfolio_variance)\n",
    "\n",
    "# Print the optimized portfolio weights and Sharpe Ratio\n",
    "print(\"Optimized Portfolio Weights: \", result.x)\n",
    "print(\"Sharpe Ratio: \", sharpe_ratio)\n"
   ]
  }
 ],
 "metadata": {
  "kernelspec": {
   "display_name": "venv",
   "language": "python",
   "name": "python3"
  },
  "language_info": {
   "codemirror_mode": {
    "name": "ipython",
    "version": 3
   },
   "file_extension": ".py",
   "mimetype": "text/x-python",
   "name": "python",
   "nbconvert_exporter": "python",
   "pygments_lexer": "ipython3",
   "version": "3.10.10"
  },
  "orig_nbformat": 4
 },
 "nbformat": 4,
 "nbformat_minor": 2
}
