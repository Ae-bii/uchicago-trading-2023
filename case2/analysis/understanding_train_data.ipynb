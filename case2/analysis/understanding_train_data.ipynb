{
 "cells": [
  {
   "cell_type": "code",
   "execution_count": 9,
   "metadata": {},
   "outputs": [
    {
     "ename": "ModuleNotFoundError",
     "evalue": "No module named 'statsmodels.tsa.stattools.adfuller'; 'statsmodels.tsa.stattools' is not a package",
     "output_type": "error",
     "traceback": [
      "\u001b[1;31m---------------------------------------------------------------------------\u001b[0m",
      "\u001b[1;31mModuleNotFoundError\u001b[0m                       Traceback (most recent call last)",
      "Cell \u001b[1;32mIn[9], line 9\u001b[0m\n\u001b[0;32m      7\u001b[0m \u001b[39mfrom\u001b[39;00m \u001b[39mpy_vollib_vectorized\u001b[39;00m\u001b[39m.\u001b[39;00m\u001b[39mimplied_volatility\u001b[39;00m \u001b[39mimport\u001b[39;00m vectorized_implied_volatility\n\u001b[0;32m      8\u001b[0m \u001b[39mfrom\u001b[39;00m \u001b[39mpy_vollib_vectorized\u001b[39;00m\u001b[39m.\u001b[39;00m\u001b[39mapi\u001b[39;00m \u001b[39mimport\u001b[39;00m price_dataframe\n\u001b[1;32m----> 9\u001b[0m \u001b[39mimport\u001b[39;00m \u001b[39mstatsmodels\u001b[39;00m\u001b[39m.\u001b[39;00m\u001b[39mtsa\u001b[39;00m\u001b[39m.\u001b[39;00m\u001b[39mstattools\u001b[39;00m\u001b[39m.\u001b[39;00m\u001b[39madfuller\u001b[39;00m \u001b[39mas\u001b[39;00m \u001b[39madf\u001b[39;00m\n\u001b[0;32m     11\u001b[0m get_ipython()\u001b[39m.\u001b[39mrun_line_magic(\u001b[39m'\u001b[39m\u001b[39mmatplotlib\u001b[39m\u001b[39m'\u001b[39m, \u001b[39m'\u001b[39m\u001b[39minline\u001b[39m\u001b[39m'\u001b[39m)\n",
      "\u001b[1;31mModuleNotFoundError\u001b[0m: No module named 'statsmodels.tsa.stattools.adfuller'; 'statsmodels.tsa.stattools' is not a package"
     ]
    }
   ],
   "source": [
    "import pandas as pd\n",
    "import numpy as np\n",
    "import matplotlib.pyplot as plt\n",
    "from scipy.stats import norm\n",
    "from py_vollib_vectorized.models import vectorized_black_scholes\n",
    "from py_vollib_vectorized.api import get_all_greeks\n",
    "from py_vollib_vectorized.implied_volatility import vectorized_implied_volatility\n",
    "from py_vollib_vectorized.api import price_dataframe\n",
    "import statsmodels.tsa.stattools.adfuller as adf\n",
    "\n",
    "%matplotlib inline"
   ]
  },
  {
   "cell_type": "code",
   "execution_count": 6,
   "metadata": {},
   "outputs": [
    {
     "data": {
      "text/plain": [
       "array([6.40976207, 2.65251273])"
      ]
     },
     "execution_count": 6,
     "metadata": {},
     "output_type": "execute_result"
    }
   ],
   "source": [
    "price = [35.436537, 35.010526]\n",
    "S = 100\n",
    "K = [65, 135]\n",
    "t = 1/600\n",
    "r = 0\n",
    "flag = ['c', 'p']\n",
    "vectorized_implied_volatility(price, S, K, t, r, flag, q=0, return_as='numpy')"
   ]
  },
  {
   "cell_type": "code",
   "execution_count": 7,
   "metadata": {},
   "outputs": [
    {
     "data": {
      "text/plain": [
       "{'delta': [0.962222051665762, -0.9967081762891183],\n",
       " 'gamma': [0.003143357005797043, 0.0009185222182850339],\n",
       " 'theta': [-0.436537000834889, -0.010525999833383537],\n",
       " 'rho': [0.0010130944760895488, -0.002244689066554173],\n",
       " 'vega': [0.0033580271511226556, 0.0004060997053692006]}"
      ]
     },
     "execution_count": 7,
     "metadata": {},
     "output_type": "execute_result"
    }
   ],
   "source": [
    "S = 100\n",
    "K = [65,135]\n",
    "t = 1/600\n",
    "r = 0\n",
    "flag = ['c', 'p']\n",
    "sigma = [6.40976207, 2.65251273]\n",
    "get_all_greeks(flag, S, K, t, r, sigma, model='black_scholes', return_as='dict')"
   ]
  },
  {
   "cell_type": "code",
   "execution_count": 8,
   "metadata": {},
   "outputs": [
    {
     "data": {
      "text/html": [
       "<div>\n",
       "<style scoped>\n",
       "    .dataframe tbody tr th:only-of-type {\n",
       "        vertical-align: middle;\n",
       "    }\n",
       "\n",
       "    .dataframe tbody tr th {\n",
       "        vertical-align: top;\n",
       "    }\n",
       "\n",
       "    .dataframe thead th {\n",
       "        text-align: right;\n",
       "    }\n",
       "</style>\n",
       "<table border=\"1\" class=\"dataframe\">\n",
       "  <thead>\n",
       "    <tr style=\"text-align: right;\">\n",
       "      <th></th>\n",
       "      <th>Flag</th>\n",
       "      <th>S</th>\n",
       "      <th>K</th>\n",
       "      <th>T</th>\n",
       "      <th>R</th>\n",
       "      <th>IV</th>\n",
       "    </tr>\n",
       "  </thead>\n",
       "  <tbody>\n",
       "    <tr>\n",
       "      <th>0</th>\n",
       "      <td>c</td>\n",
       "      <td>100</td>\n",
       "      <td>65</td>\n",
       "      <td>0.001667</td>\n",
       "      <td>0</td>\n",
       "      <td>6.409762</td>\n",
       "    </tr>\n",
       "    <tr>\n",
       "      <th>1</th>\n",
       "      <td>p</td>\n",
       "      <td>100</td>\n",
       "      <td>135</td>\n",
       "      <td>0.001667</td>\n",
       "      <td>0</td>\n",
       "      <td>2.652513</td>\n",
       "    </tr>\n",
       "    <tr>\n",
       "      <th>2</th>\n",
       "      <td>c</td>\n",
       "      <td>100</td>\n",
       "      <td>65</td>\n",
       "      <td>0.001667</td>\n",
       "      <td>0</td>\n",
       "      <td>6.409762</td>\n",
       "    </tr>\n",
       "    <tr>\n",
       "      <th>3</th>\n",
       "      <td>p</td>\n",
       "      <td>100</td>\n",
       "      <td>135</td>\n",
       "      <td>0.001667</td>\n",
       "      <td>0</td>\n",
       "      <td>2.652513</td>\n",
       "    </tr>\n",
       "  </tbody>\n",
       "</table>\n",
       "</div>"
      ],
      "text/plain": [
       "  Flag    S    K         T  R        IV\n",
       "0    c  100   65  0.001667  0  6.409762\n",
       "1    p  100  135  0.001667  0  2.652513\n",
       "2    c  100   65  0.001667  0  6.409762\n",
       "3    p  100  135  0.001667  0  2.652513"
      ]
     },
     "execution_count": 8,
     "metadata": {},
     "output_type": "execute_result"
    }
   ],
   "source": [
    "df = pd.DataFrame()\n",
    "\n",
    "df['Flag'] = ['c', 'p','c','p']\n",
    "\n",
    "df['S'] = 100\n",
    "\n",
    "df['K'] = [65, 135,65,135]\n",
    "\n",
    "df['T'] = 1/600\n",
    "\n",
    "df['R'] = 0\n",
    "\n",
    "df['IV'] = [6.40976207, 2.65251273,6.40976207, 2.65251273]\n",
    "df\n",
    "\n",
    "# price_dataframe(df, flag_col='Flag', underlying_price_col='S', strike_col='K', annualized_tte_col='T', riskfree_rate_col='R', sigma_col='IV', model='black_scholes', inplace=False)"
   ]
  },
  {
   "cell_type": "code",
   "execution_count": null,
   "metadata": {},
   "outputs": [
    {
     "data": {
      "text/html": [
       "<div>\n",
       "<style scoped>\n",
       "    .dataframe tbody tr th:only-of-type {\n",
       "        vertical-align: middle;\n",
       "    }\n",
       "\n",
       "    .dataframe tbody tr th {\n",
       "        vertical-align: top;\n",
       "    }\n",
       "\n",
       "    .dataframe thead th {\n",
       "        text-align: right;\n",
       "    }\n",
       "</style>\n",
       "<table border=\"1\" class=\"dataframe\">\n",
       "  <thead>\n",
       "    <tr style=\"text-align: right;\">\n",
       "      <th></th>\n",
       "      <th>underlying</th>\n",
       "      <th>call65</th>\n",
       "      <th>call70</th>\n",
       "      <th>call75</th>\n",
       "      <th>call80</th>\n",
       "      <th>call85</th>\n",
       "      <th>call90</th>\n",
       "      <th>call95</th>\n",
       "      <th>call100</th>\n",
       "      <th>call105</th>\n",
       "      <th>...</th>\n",
       "      <th>put90</th>\n",
       "      <th>put95</th>\n",
       "      <th>put100</th>\n",
       "      <th>put105</th>\n",
       "      <th>put110</th>\n",
       "      <th>put115</th>\n",
       "      <th>put120</th>\n",
       "      <th>put125</th>\n",
       "      <th>put130</th>\n",
       "      <th>put135</th>\n",
       "    </tr>\n",
       "  </thead>\n",
       "  <tbody>\n",
       "    <tr>\n",
       "      <th>0</th>\n",
       "      <td>100.000000</td>\n",
       "      <td>35.436537</td>\n",
       "      <td>30.436449</td>\n",
       "      <td>25.465460</td>\n",
       "      <td>20.544501</td>\n",
       "      <td>15.718957</td>\n",
       "      <td>11.091298</td>\n",
       "      <td>6.883928</td>\n",
       "      <td>3.493461</td>\n",
       "      <td>1.333979</td>\n",
       "      <td>...</td>\n",
       "      <td>1.091298</td>\n",
       "      <td>1.883928</td>\n",
       "      <td>3.493461</td>\n",
       "      <td>6.333979</td>\n",
       "      <td>10.375479</td>\n",
       "      <td>15.090290</td>\n",
       "      <td>20.025352</td>\n",
       "      <td>25.011182</td>\n",
       "      <td>30.008593</td>\n",
       "      <td>35.010526</td>\n",
       "    </tr>\n",
       "    <tr>\n",
       "      <th>1</th>\n",
       "      <td>99.703351</td>\n",
       "      <td>35.117638</td>\n",
       "      <td>30.116325</td>\n",
       "      <td>25.143759</td>\n",
       "      <td>20.221087</td>\n",
       "      <td>15.395046</td>\n",
       "      <td>10.773197</td>\n",
       "      <td>6.591873</td>\n",
       "      <td>3.268877</td>\n",
       "      <td>1.212482</td>\n",
       "      <td>...</td>\n",
       "      <td>1.069846</td>\n",
       "      <td>1.888522</td>\n",
       "      <td>3.565526</td>\n",
       "      <td>6.509131</td>\n",
       "      <td>10.632709</td>\n",
       "      <td>15.380026</td>\n",
       "      <td>20.322307</td>\n",
       "      <td>25.309459</td>\n",
       "      <td>30.307651</td>\n",
       "      <td>35.311125</td>\n",
       "    </tr>\n",
       "    <tr>\n",
       "      <th>2</th>\n",
       "      <td>99.781739</td>\n",
       "      <td>35.246585</td>\n",
       "      <td>30.252950</td>\n",
       "      <td>25.291467</td>\n",
       "      <td>20.385660</td>\n",
       "      <td>15.585513</td>\n",
       "      <td>11.000335</td>\n",
       "      <td>6.856841</td>\n",
       "      <td>3.536347</td>\n",
       "      <td>1.409663</td>\n",
       "      <td>...</td>\n",
       "      <td>1.218595</td>\n",
       "      <td>2.075101</td>\n",
       "      <td>3.754608</td>\n",
       "      <td>6.627924</td>\n",
       "      <td>10.649909</td>\n",
       "      <td>15.334966</td>\n",
       "      <td>20.254847</td>\n",
       "      <td>25.235405</td>\n",
       "      <td>30.231430</td>\n",
       "      <td>35.233703</td>\n",
       "    </tr>\n",
       "    <tr>\n",
       "      <th>3</th>\n",
       "      <td>99.989922</td>\n",
       "      <td>35.412877</td>\n",
       "      <td>30.423416</td>\n",
       "      <td>25.464844</td>\n",
       "      <td>20.560375</td>\n",
       "      <td>15.759372</td>\n",
       "      <td>11.169538</td>\n",
       "      <td>7.013417</td>\n",
       "      <td>3.664809</td>\n",
       "      <td>1.492569</td>\n",
       "      <td>...</td>\n",
       "      <td>1.179616</td>\n",
       "      <td>2.023495</td>\n",
       "      <td>3.674888</td>\n",
       "      <td>6.502648</td>\n",
       "      <td>10.479730</td>\n",
       "      <td>15.139596</td>\n",
       "      <td>20.050467</td>\n",
       "      <td>25.028339</td>\n",
       "      <td>30.023364</td>\n",
       "      <td>35.024824</td>\n",
       "    </tr>\n",
       "    <tr>\n",
       "      <th>4</th>\n",
       "      <td>99.348765</td>\n",
       "      <td>34.765348</td>\n",
       "      <td>29.783212</td>\n",
       "      <td>24.834189</td>\n",
       "      <td>19.944124</td>\n",
       "      <td>15.167839</td>\n",
       "      <td>10.623611</td>\n",
       "      <td>6.550014</td>\n",
       "      <td>3.329964</td>\n",
       "      <td>1.305116</td>\n",
       "      <td>...</td>\n",
       "      <td>1.274847</td>\n",
       "      <td>2.201250</td>\n",
       "      <td>3.981199</td>\n",
       "      <td>6.956351</td>\n",
       "      <td>11.042635</td>\n",
       "      <td>15.753561</td>\n",
       "      <td>20.681516</td>\n",
       "      <td>25.664342</td>\n",
       "      <td>30.660513</td>\n",
       "      <td>35.661443</td>\n",
       "    </tr>\n",
       "  </tbody>\n",
       "</table>\n",
       "<p>5 rows × 31 columns</p>\n",
       "</div>"
      ],
      "text/plain": [
       "   underlying     call65     call70     call75     call80     call85   \n",
       "0  100.000000  35.436537  30.436449  25.465460  20.544501  15.718957  \\\n",
       "1   99.703351  35.117638  30.116325  25.143759  20.221087  15.395046   \n",
       "2   99.781739  35.246585  30.252950  25.291467  20.385660  15.585513   \n",
       "3   99.989922  35.412877  30.423416  25.464844  20.560375  15.759372   \n",
       "4   99.348765  34.765348  29.783212  24.834189  19.944124  15.167839   \n",
       "\n",
       "      call90    call95   call100   call105  ...     put90     put95    put100   \n",
       "0  11.091298  6.883928  3.493461  1.333979  ...  1.091298  1.883928  3.493461  \\\n",
       "1  10.773197  6.591873  3.268877  1.212482  ...  1.069846  1.888522  3.565526   \n",
       "2  11.000335  6.856841  3.536347  1.409663  ...  1.218595  2.075101  3.754608   \n",
       "3  11.169538  7.013417  3.664809  1.492569  ...  1.179616  2.023495  3.674888   \n",
       "4  10.623611  6.550014  3.329964  1.305116  ...  1.274847  2.201250  3.981199   \n",
       "\n",
       "     put105     put110     put115     put120     put125     put130     put135  \n",
       "0  6.333979  10.375479  15.090290  20.025352  25.011182  30.008593  35.010526  \n",
       "1  6.509131  10.632709  15.380026  20.322307  25.309459  30.307651  35.311125  \n",
       "2  6.627924  10.649909  15.334966  20.254847  25.235405  30.231430  35.233703  \n",
       "3  6.502648  10.479730  15.139596  20.050467  25.028339  30.023364  35.024824  \n",
       "4  6.956351  11.042635  15.753561  20.681516  25.664342  30.660513  35.661443  \n",
       "\n",
       "[5 rows x 31 columns]"
      ]
     },
     "execution_count": 2,
     "metadata": {},
     "output_type": "execute_result"
    }
   ],
   "source": [
    "df = pd.read_csv(\"../data/training_pricepaths.csv\", index_col=0)\n",
    "df.head()"
   ]
  },
  {
   "cell_type": "code",
   "execution_count": null,
   "metadata": {},
   "outputs": [
    {
     "data": {
      "text/plain": [
       "<Axes: >"
      ]
     },
     "execution_count": 3,
     "metadata": {},
     "output_type": "execute_result"
    },
    {
     "data": {
      "image/png": "[encoded data removed]",
      "text/plain": [
       "<Figure size 640x480 with 1 Axes>"
      ]
     },
     "metadata": {},
     "output_type": "display_data"
    }
   ],
   "source": [
    "df['underlying'].plot()"
   ]
  },
  {
   "cell_type": "code",
   "execution_count": null,
   "metadata": {},
   "outputs": [
    {
     "data": {
      "text/plain": [
       "<Axes: >"
      ]
     },
     "execution_count": 4,
     "metadata": {},
     "output_type": "execute_result"
    },
    {
     "data": {
      "image/png": "[encoded data removed]",
      "text/plain": [
       "<Figure size 640x480 with 1 Axes>"
      ]
     },
     "metadata": {},
     "output_type": "display_data"
    }
   ],
   "source": [
    "df['underlying'].hist(bins=75)"
   ]
  },
  {
   "cell_type": "code",
   "execution_count": 3,
   "metadata": {},
   "outputs": [
    {
     "ename": "NameError",
     "evalue": "name 'adf' is not defined",
     "output_type": "error",
     "traceback": [
      "\u001b[1;31m---------------------------------------------------------------------------\u001b[0m",
      "\u001b[1;31mNameError\u001b[0m                                 Traceback (most recent call last)",
      "Cell \u001b[1;32mIn[3], line 1\u001b[0m\n\u001b[1;32m----> 1\u001b[0m adf(df[\u001b[39m'\u001b[39m\u001b[39munderlying\u001b[39m\u001b[39m'\u001b[39m])\n",
      "\u001b[1;31mNameError\u001b[0m: name 'adf' is not defined"
     ]
    }
   ],
   "source": [
    "adf(df['underlying'])"
   ]
  },
  {
   "cell_type": "code",
   "execution_count": 4,
   "metadata": {},
   "outputs": [],
   "source": [
    "# size = (5,4)\n",
    "# for i in df.columns:\n",
    "#     df[[i]].plot(figsize=size)\n",
    "#     df[[i]].hist(figsize=size, bins=50)"
   ]
  }
 ],
 "metadata": {
  "kernelspec": {
   "display_name": "venv",
   "language": "python",
   "name": "python3"
  },
  "language_info": {
   "codemirror_mode": {
    "name": "ipython",
    "version": 3
   },
   "file_extension": ".py",
   "mimetype": "text/x-python",
   "name": "python",
   "nbconvert_exporter": "python",
   "pygments_lexer": "ipython3",
   "version": "3.9.13"
  },
  "orig_nbformat": 4
 },
 "nbformat": 4,
 "nbformat_minor": 2
}
